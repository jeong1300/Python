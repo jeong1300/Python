{
 "cells": [
  {
   "cell_type": "markdown",
   "metadata": {},
   "source": [
    "## 특징\n",
    "\n",
    "+ 벡터 및 행렬 연산과 관련된 편리한 기능을 제공(선형대수 관련)\n",
    "+ 리스트에 비해 빠르고 메모리를 효율적으로 사용(배열)\n",
    "+ 반복문 없이 데이터 배열에 대한 처리를 지원(인덱싱, 질의)\n",
    "+ http://www.numpy.org\n",
    "+ ndarray 기본 데이터 타입 사용"
   ]
  },
  {
   "cell_type": "code",
   "execution_count": 1,
   "metadata": {},
   "outputs": [],
   "source": [
    "import numpy as np"
   ]
  },
  {
   "cell_type": "markdown",
   "metadata": {},
   "source": [
    "### 1차원 배열"
   ]
  },
  {
   "cell_type": "code",
   "execution_count": 3,
   "metadata": {},
   "outputs": [
    {
     "name": "stdout",
     "output_type": "stream",
     "text": [
      "[1, 2, 3, 4, 5, 10, 20, '가', '나']\n",
      "<class 'list'>\n"
     ]
    }
   ],
   "source": [
    "a1 = [1,2,3,4,5,10,20,'가','나']\n",
    "print(a1)\n",
    "print(type(a1))"
   ]
  },
  {
   "cell_type": "code",
   "execution_count": 15,
   "metadata": {},
   "outputs": [
    {
     "name": "stdout",
     "output_type": "stream",
     "text": [
      "['1' '2' '3' '4' '5' '10' '20' '가' '나']\n",
      "<class 'numpy.ndarray'>\n",
      "(9,)\n",
      "<U11\n"
     ]
    }
   ],
   "source": [
    "a2 = np.array([1,2,3,4,5,10,20,'가','나'])\n",
    "print(a2)\n",
    "print(type(a2))\n",
    "print(a2.shape)\n",
    "print(a2.dtype) # U는 Unicode(문자)라는 뜻"
   ]
  },
  {
   "cell_type": "code",
   "execution_count": 14,
   "metadata": {},
   "outputs": [
    {
     "name": "stdout",
     "output_type": "stream",
     "text": [
      "[ 1.  2.  3.  4.  5. 10. 20. 30. 40.]\n",
      "float64\n"
     ]
    }
   ],
   "source": [
    "a3 = np.array([1,2,3,4,5,10,20,'30','40'], float)\n",
    "print(a3)\n",
    "print(a3.dtype)"
   ]
  },
  {
   "cell_type": "code",
   "execution_count": 19,
   "metadata": {},
   "outputs": [
    {
     "name": "stdout",
     "output_type": "stream",
     "text": [
      "int32\n"
     ]
    }
   ],
   "source": [
    "a4 = np.dtype('>i4')\n",
    "print(a4.name)"
   ]
  },
  {
   "cell_type": "code",
   "execution_count": 4,
   "metadata": {},
   "outputs": [
    {
     "name": "stdout",
     "output_type": "stream",
     "text": [
      "[0, 1, 2, 3, 4, 5, 6, 7, 8, 9, 0, 1, 2, 3, 4, 5, 6, 7, 8, 9]\n"
     ]
    }
   ],
   "source": [
    "# 벡터화 연산\n",
    "data = [0,1,2,3,4,5,6,7,8,9]\n",
    "print(data*2) #데이터 두번 반복\n",
    "#print(data-2) 불가(안돌아감)"
   ]
  },
  {
   "cell_type": "code",
   "execution_count": 5,
   "metadata": {},
   "outputs": [
    {
     "name": "stdout",
     "output_type": "stream",
     "text": [
      "[ 0  2  4  6  8 10 12 14 16 18]\n",
      "[ 2  3  4  5  6  7  8  9 10 11]\n",
      "[-2 -1  0  1  2  3  4  5  6  7]\n"
     ]
    }
   ],
   "source": [
    "data2 = np.array(data)\n",
    "print(data2*2)\n",
    "print(data2+2)\n",
    "print(data2-2)"
   ]
  },
  {
   "cell_type": "code",
   "execution_count": 6,
   "metadata": {},
   "outputs": [
    {
     "name": "stdout",
     "output_type": "stream",
     "text": [
      "0 1\n"
     ]
    }
   ],
   "source": [
    "# 인덱스 접근\n",
    "print(data2[0], data2[1])"
   ]
  },
  {
   "cell_type": "markdown",
   "metadata": {},
   "source": [
    "### 2차원 배열"
   ]
  },
  {
   "cell_type": "code",
   "execution_count": 2,
   "metadata": {},
   "outputs": [
    {
     "name": "stdout",
     "output_type": "stream",
     "text": [
      "[[1 2 3]\n",
      " [4 5 6]]\n",
      "(2, 3)\n",
      "----------------\n",
      "[1 2 3]\n",
      "1\n",
      "2\n",
      "3\n"
     ]
    }
   ],
   "source": [
    "arr = np.array([[1,2,3],[4,5,6]])\n",
    "print(arr)\n",
    "print(arr.shape)\n",
    "print('----------------')\n",
    "\n",
    "#접근\n",
    "print(arr[0])\n",
    "print(arr[0][0])\n",
    "print(len(arr))\n",
    "print(len(arr[0]))"
   ]
  },
  {
   "cell_type": "markdown",
   "metadata": {},
   "source": [
    "## 3차원 배열"
   ]
  },
  {
   "cell_type": "code",
   "execution_count": 25,
   "metadata": {},
   "outputs": [
    {
     "name": "stdout",
     "output_type": "stream",
     "text": [
      "[[[ 1  2  3  4]\n",
      "  [ 5  6  7  8]]\n",
      "\n",
      " [[ 9 10 11 12]\n",
      "  [13 14 15 16]]]\n",
      "------------------\n",
      "[[1 2 3 4]\n",
      " [5 6 7 8]]\n",
      "------------------\n",
      "[1 2 3 4]\n",
      "------------------\n",
      "1\n",
      "------------------\n",
      "(2, 2, 4)\n",
      "3\n",
      "2 2 4\n"
     ]
    }
   ],
   "source": [
    "arr = np.array([[[1,2,3,4],[5,6,7,8]],\n",
    "              [[9,10,11,12],[13,14,15,16]]])\n",
    "print(arr)\n",
    "print('------------------')\n",
    "print(arr[0])\n",
    "print('------------------')\n",
    "print(arr[0][0])\n",
    "print('------------------')\n",
    "print(arr[0][0][0])\n",
    "print('------------------')\n",
    "print(arr.shape)\n",
    "print(arr.ndim) #차원\n",
    "print(len(arr), len(arr[0]), len(arr[0][0]))"
   ]
  },
  {
   "cell_type": "code",
   "execution_count": 29,
   "metadata": {},
   "outputs": [
    {
     "name": "stdout",
     "output_type": "stream",
     "text": [
      "[[[1]]]\n",
      "int32\n",
      "(1, 1, 1)\n",
      "3\n"
     ]
    }
   ],
   "source": [
    "arr = np.array([[[1]]])\n",
    "print(arr)\n",
    "print(arr.dtype)\n",
    "print(arr.shape)\n",
    "print(arr.ndim)"
   ]
  },
  {
   "cell_type": "markdown",
   "metadata": {},
   "source": [
    "### 배열의 인덱싱\n",
    "+ 배열에 저장되어 있는 데이터를 접근하는 방법"
   ]
  },
  {
   "cell_type": "code",
   "execution_count": 32,
   "metadata": {},
   "outputs": [
    {
     "name": "stdout",
     "output_type": "stream",
     "text": [
      "2 4 4 2\n"
     ]
    }
   ],
   "source": [
    "arr = np.array([0,1,2,3,4])\n",
    "print(arr[2], arr[4], arr[-1], arr[-3])"
   ]
  },
  {
   "cell_type": "code",
   "execution_count": 6,
   "metadata": {},
   "outputs": [
    {
     "name": "stdout",
     "output_type": "stream",
     "text": [
      "2 2 5\n"
     ]
    }
   ],
   "source": [
    "arr2 = np.array([[0,1,2],\n",
    "                 [3,4,5]])\n",
    "print(arr2[0][2], arr2[0,2], arr2[-1, -1])"
   ]
  },
  {
   "cell_type": "code",
   "execution_count": 46,
   "metadata": {},
   "outputs": [
    {
     "name": "stdout",
     "output_type": "stream",
     "text": [
      "[0 2 4 6 8]\n",
      "[0 1 0 1 0 1 0 1 0 1]\n",
      "[ True False  True False  True False  True False  True False]\n",
      "[0 2 4 6 8]\n",
      "[9]\n"
     ]
    }
   ],
   "source": [
    "# fancy indexing\n",
    "\n",
    "arr3 = np.array([i for i in range(10)])\n",
    "arr3\n",
    "idx = np.array([True,False,True,False,True,False,True,False,True,False])\n",
    "\n",
    "print(arr3[idx])\n",
    "print(arr3 % 2)\n",
    "print(arr3 % 2 == 0)\n",
    "print(arr3[arr3 % 2 == 0])\n",
    "\n",
    "# arr3에서 3의 배수를 찾아라\n",
    "\n",
    "# arr3에서 4로 나누면 1이 남는 수를 찾아라\n",
    "\n",
    "# arr3에서 3으로 나누면 나눠지고 4로 나누면 1이 남는 수를 찾아라 ; [9]\n",
    "print(arr3[(arr3%3==0) & (arr3%4==1)])"
   ]
  },
  {
   "cell_type": "markdown",
   "metadata": {},
   "source": [
    "### 배열의 슬라이싱"
   ]
  },
  {
   "cell_type": "code",
   "execution_count": 63,
   "metadata": {},
   "outputs": [
    {
     "name": "stdout",
     "output_type": "stream",
     "text": [
      "[0 1]\n",
      "---------\n",
      "[[4 5]\n",
      " [8 9]]\n",
      "---------\n",
      "[0 1 2 3]\n",
      "[[0 1]\n",
      " [4 5]]\n",
      "----------------\n",
      "[[ 8  9 10 11]\n",
      " [ 4  5  6  7]\n",
      " [ 0  1  2  3]]\n",
      "----------------\n",
      "[[ 1  2]\n",
      " [ 5  6]\n",
      " [ 9 10]]\n"
     ]
    }
   ],
   "source": [
    "arr = np.array([[0,1,2,3],\n",
    "                [4,5,6,7],\n",
    "                [8,9,10,11]])\n",
    "\n",
    "print(arr[0,0:2])\n",
    "print(\"---------\")\n",
    "print(arr[1:3,0:2])\n",
    "print(\"---------\")\n",
    "print(arr[0, :])\n",
    "\n",
    "# [[0,1], [4,5]] 출력\n",
    "print(arr[:2, :2])\n",
    "print('----------------')\n",
    "print(arr[[2,1,0], :])\n",
    "print('----------------')\n",
    "print(arr[: ,[1,2]])"
   ]
  },
  {
   "cell_type": "markdown",
   "metadata": {},
   "source": [
    "### numpy 자료형\n",
    "\n",
    "+ b : 불리언\n",
    "+ i : 정수(i8)\n",
    "+ u : 부호없는 정수\n",
    "+ f : 부동소수점\n",
    "+ c : 복소수\n",
    "+ O : 객체\n",
    "+ S : 바이트 문자열(S24)\n",
    "+ U : 유니코드 문자열"
   ]
  },
  {
   "cell_type": "code",
   "execution_count": 66,
   "metadata": {},
   "outputs": [
    {
     "name": "stdout",
     "output_type": "stream",
     "text": [
      "float32\n",
      "3.0\n"
     ]
    }
   ],
   "source": [
    "arr = np.array([1,2,3], dtype='f')\n",
    "print(arr.dtype)\n",
    "print(arr[0] + arr[1])"
   ]
  },
  {
   "cell_type": "code",
   "execution_count": 4,
   "metadata": {},
   "outputs": [
    {
     "name": "stdout",
     "output_type": "stream",
     "text": [
      "|S1\n",
      "b'12'\n",
      "----------------------------\n",
      "<U1\n",
      "12\n"
     ]
    }
   ],
   "source": [
    "arr = np.array([1, 2, 3], dtype=\"S\")\n",
    "print(arr.dtype)\n",
    "print(arr[0] + arr[1])\n",
    "print(\"----------------------------\")\n",
    "arr = np.array([1, 2, 3], dtype=\"U\")\n",
    "print(arr.dtype)\n",
    "print(arr[0] + arr[1])"
   ]
  },
  {
   "cell_type": "code",
   "execution_count": 5,
   "metadata": {},
   "outputs": [
    {
     "name": "stdout",
     "output_type": "stream",
     "text": [
      "<U5\n",
      "('<f8', (2,))\n",
      "-------------------------------\n",
      "['홍길동' '임꺽정' '신돌석' '김수한무 ']\n",
      "<U5\n",
      "-------------------------------\n",
      "[('홍길동', [5., 7.]) ('임꺽정', [8., 9.])]\n"
     ]
    }
   ],
   "source": [
    "dt = np.dtype([('name', np.unicode_, 5), (\"grades\", np.float64, (2,))])\n",
    "print(dt[\"name\"])\n",
    "print(dt[\"grades\"])\n",
    "\n",
    "print(\"-------------------------------\")\n",
    "\n",
    "arr = np.array([\"홍길동\", \"임꺽정\", \"신돌석\", \"김수한무 거북이와 두루미\"], dtype=dt[\"name\"])\n",
    "print(arr)\n",
    "print(arr.dtype)\n",
    "\n",
    "print(\"-------------------------------\")\n",
    "\n",
    "arr = np.array([(\"홍길동\", (5.0, 7.0)), (\"임꺽정\", (8.0, 9.0))], dtype=dt)\n",
    "print(arr)"
   ]
  },
  {
   "cell_type": "markdown",
   "metadata": {},
   "source": [
    "### 배열 생성"
   ]
  },
  {
   "cell_type": "code",
   "execution_count": 87,
   "metadata": {},
   "outputs": [
    {
     "name": "stdout",
     "output_type": "stream",
     "text": [
      "[0. 0. 0. 0. 0.]\n",
      "float64\n",
      "<class 'numpy.ndarray'>\n",
      "------------------------\n",
      "['' '' '' '' '']\n",
      "<U4\n",
      "<class 'numpy.ndarray'>\n",
      "['abc' 'abcd' 'abcd' '' '']\n",
      "------------------------\n",
      "[[0. 0. 0.]\n",
      " [0. 0. 0.]]\n",
      "------------------------\n",
      "[[[1. 1. 1. 1.]\n",
      "  [1. 1. 1. 1.]\n",
      "  [1. 1. 1. 1.]]\n",
      "\n",
      " [[1. 1. 1. 1.]\n",
      "  [1. 1. 1. 1.]\n",
      "  [1. 1. 1. 1.]]]\n",
      "------------------------\n",
      "[[1. 1. 1.]\n",
      " [1. 1. 1.]]\n",
      "------------------------\n",
      "[[1.41882275e-311 2.47032823e-322 0.00000000e+000]\n",
      " [0.00000000e+000 0.00000000e+000 3.76231868e+174]\n",
      " [6.56568305e-091 1.60397769e-051 9.98840984e-048]\n",
      " [2.80728128e-032 3.99910963e+252 1.74355725e-076]]\n",
      "------------------------\n",
      "[0 1 2 3 4 5 6 7 8 9]\n",
      "------------------------\n",
      "[  0.  25.  50.  75. 100.]\n"
     ]
    }
   ],
   "source": [
    "arr = np.zeros(5)\n",
    "print(arr)\n",
    "print(arr.dtype)\n",
    "print(type(arr))\n",
    "\n",
    "print('------------------------')\n",
    "\n",
    "arr = np.zeros(5, dtype=\"U4\") #4=길이는 네글자 까지\n",
    "print(arr)\n",
    "print(arr.dtype)\n",
    "print(type(arr))\n",
    "arr[0] = 'abc'\n",
    "arr[1] = 'abcd'\n",
    "arr[2] = 'abcde'\n",
    "print(arr) # dtype의 4때문에 abcde의 e가 안들어감\n",
    "\n",
    "print('------------------------')\n",
    "\n",
    "arr = np.zeros((2,3))\n",
    "print(arr)\n",
    "\n",
    "print('------------------------')\n",
    "\n",
    "arr = np.ones((2,3,4))\n",
    "print(arr)\n",
    "\n",
    "print('------------------------')\n",
    "\n",
    "arr1 = np.zeros((2,3))\n",
    "arr2 = np.ones_like(arr1)\n",
    "print(arr2)\n",
    "\n",
    "print('------------------------')\n",
    "\n",
    "arr3 = np.empty((4,3))\n",
    "print(arr3)\n",
    "\n",
    "print('------------------------')\n",
    "\n",
    "arr = np.arange(10)\n",
    "print(arr)\n",
    "\n",
    "print('------------------------')\n",
    "\n",
    "arr = np.linspace(0,100,5) #그래프에 많이 사용\n",
    "print(arr)"
   ]
  },
  {
   "cell_type": "markdown",
   "metadata": {},
   "source": [
    "### 전치연산(Transpose)"
   ]
  },
  {
   "cell_type": "code",
   "execution_count": 89,
   "metadata": {},
   "outputs": [
    {
     "name": "stdout",
     "output_type": "stream",
     "text": [
      "[[1 2 3]\n",
      " [4 5 6]]\n",
      "[[1 4]\n",
      " [2 5]\n",
      " [3 6]]\n"
     ]
    }
   ],
   "source": [
    "arr = np.array([[1,2,3],[4,5,6]])\n",
    "print(arr)\n",
    "print(arr.T)"
   ]
  },
  {
   "cell_type": "markdown",
   "metadata": {},
   "source": [
    "### 배열의 크기 변형 : reshape(), flatten(), ravel()\n",
    "+ reshape : 원하는 크기를 직접 지정해서\n",
    "+ flatten : n차원배열을 1차원으로 만드는 함수\n",
    "+ ravel   : flatten과 비슷한 함수"
   ]
  },
  {
   "cell_type": "code",
   "execution_count": 7,
   "metadata": {},
   "outputs": [
    {
     "name": "stdout",
     "output_type": "stream",
     "text": [
      "[ 0  1  2  3  4  5  6  7  8  9 10 11]\n",
      "(12,)\n"
     ]
    }
   ],
   "source": [
    "arr = np.arange(12)\n",
    "print(arr)\n",
    "print(arr.shape)"
   ]
  },
  {
   "cell_type": "code",
   "execution_count": 97,
   "metadata": {},
   "outputs": [
    {
     "name": "stdout",
     "output_type": "stream",
     "text": [
      "[[ 0  1  2  3]\n",
      " [ 4  5  6  7]\n",
      " [ 8  9 10 11]]\n",
      "(3, 4)\n",
      "------------------------\n",
      "[[ 0  1  2  3]\n",
      " [ 4  5  6  7]\n",
      " [ 8  9 10 11]]\n",
      "(3, 4)\n",
      "------------------------\n",
      "[[ 0  1  2  3]\n",
      " [ 4  5  6  7]\n",
      " [ 8  9 10 11]]\n",
      "(3, 4)\n"
     ]
    }
   ],
   "source": [
    "arr1 = arr.reshape(3,4)\n",
    "print(arr1)\n",
    "print(arr1.shape)\n",
    "\n",
    "print('------------------------')\n",
    "\n",
    "arr1 = arr.reshape(3, -1)\n",
    "print(arr1)\n",
    "print(arr1.shape)\n",
    "\n",
    "print('------------------------')\n",
    "\n",
    "arr1 = arr.reshape(-1, 4)\n",
    "print(arr1)\n",
    "print(arr1.shape)"
   ]
  },
  {
   "cell_type": "code",
   "execution_count": 8,
   "metadata": {},
   "outputs": [
    {
     "name": "stdout",
     "output_type": "stream",
     "text": [
      "[[[ 0  1  2]\n",
      "  [ 3  4  5]]\n",
      "\n",
      " [[ 6  7  8]\n",
      "  [ 9 10 11]]]\n",
      "(2, 2, 3)\n",
      "------------------------\n",
      "[[[ 0  1  2]\n",
      "  [ 3  4  5]]\n",
      "\n",
      " [[ 6  7  8]\n",
      "  [ 9 10 11]]]\n",
      "(2, 2, 3)\n",
      "------------------------\n",
      "[[[ 0  1  2]\n",
      "  [ 3  4  5]]\n",
      "\n",
      " [[ 6  7  8]\n",
      "  [ 9 10 11]]]\n",
      "(2, 2, 3)\n",
      "------------------------\n",
      "[[[ 0  1  2]\n",
      "  [ 3  4  5]]\n",
      "\n",
      " [[ 6  7  8]\n",
      "  [ 9 10 11]]]\n",
      "(2, 2, 3)\n"
     ]
    }
   ],
   "source": [
    "arr2 = arr.reshape(2,2,3)\n",
    "print(arr2)\n",
    "print(arr2.shape)\n",
    "\n",
    "print('------------------------')\n",
    "\n",
    "arr2 = arr.reshape(2,2,-1)\n",
    "print(arr2)\n",
    "print(arr2.shape)\n",
    "\n",
    "print('------------------------')\n",
    "\n",
    "arr2 = arr.reshape(2, -1, 3)\n",
    "print(arr2)\n",
    "print(arr2.shape)\n",
    "\n",
    "print(\"------------------------\")\n",
    "\n",
    "arr2 = arr.reshape(-1,2,3)\n",
    "print(arr2)\n",
    "print(arr2.shape)"
   ]
  },
  {
   "cell_type": "code",
   "execution_count": 102,
   "metadata": {},
   "outputs": [
    {
     "name": "stdout",
     "output_type": "stream",
     "text": [
      "[ 0  1  2  3  4  5  6  7  8  9 10 11]\n",
      "[ 0  1  2  3  4  5  6  7  8  9 10 11]\n",
      "---------------------\n",
      "[ 0  1  2  3  4  5  6  7  8  9 10 11]\n",
      "[ 0  1  2  3  4  5  6  7  8  9 10 11]\n"
     ]
    }
   ],
   "source": [
    "print(arr1.flatten())\n",
    "print(arr1.ravel())\n",
    "\n",
    "print('---------------------')\n",
    "\n",
    "print(arr2.flatten())\n",
    "print(arr2.ravel())"
   ]
  },
  {
   "cell_type": "code",
   "execution_count": 106,
   "metadata": {},
   "outputs": [
    {
     "name": "stdout",
     "output_type": "stream",
     "text": [
      "[[0 1 2 3 4]]\n",
      "[[0]\n",
      " [1]\n",
      " [2]\n",
      " [3]\n",
      " [4]]\n",
      "---------------------\n",
      "[[0]\n",
      " [1]\n",
      " [2]\n",
      " [3]\n",
      " [4]]\n",
      "[[0 1 2 3 4]]\n",
      "---------------------\n",
      "[[0]\n",
      " [1]\n",
      " [2]\n",
      " [3]\n",
      " [4]]\n"
     ]
    }
   ],
   "source": [
    "arr = np.arange(5)\n",
    "\n",
    "print(arr.reshape(1,5))\n",
    "print(arr.reshape(5,1))\n",
    "\n",
    "print('---------------------')\n",
    "\n",
    "print(arr.reshape(1,5).T)\n",
    "print(arr.reshape(5,1).T)\n",
    "\n",
    "print('---------------------')\n",
    "\n",
    "print(arr[:, np.newaxis])"
   ]
  },
  {
   "cell_type": "markdown",
   "metadata": {},
   "source": [
    "### 배열연결(병합) : stack, hstack, vstack, dstack, tile"
   ]
  },
  {
   "cell_type": "code",
   "execution_count": 9,
   "metadata": {},
   "outputs": [
    {
     "name": "stdout",
     "output_type": "stream",
     "text": [
      "[[1. 1. 1.]\n",
      " [1. 1. 1.]]\n",
      "[[1. 1.]\n",
      " [1. 1.]]\n",
      "[[1. 1. 1. 1. 1.]\n",
      " [1. 1. 1. 1. 1.]]\n"
     ]
    }
   ],
   "source": [
    "# hstack, vstack\n",
    "\n",
    "arr1 = np.ones((2, 3))\n",
    "print(arr1)\n",
    "arr2 = np.ones((2, 2))\n",
    "print(arr2)\n",
    "\n",
    "arr3 = np.hstack([arr1, arr2])\n",
    "print(arr3)\n",
    "\n",
    "# arr4 = np.vstack([arr1, arr2])\n",
    "# print(arr3)"
   ]
  },
  {
   "cell_type": "code",
   "execution_count": 110,
   "metadata": {},
   "outputs": [
    {
     "name": "stdout",
     "output_type": "stream",
     "text": [
      "[[[1. 0.]\n",
      "  [1. 0.]\n",
      "  [1. 0.]\n",
      "  [1. 0.]]\n",
      "\n",
      " [[1. 0.]\n",
      "  [1. 0.]\n",
      "  [1. 0.]\n",
      "  [1. 0.]]\n",
      "\n",
      " [[1. 0.]\n",
      "  [1. 0.]\n",
      "  [1. 0.]\n",
      "  [1. 0.]]]\n",
      "(3, 4, 2)\n"
     ]
    }
   ],
   "source": [
    "# dstack\n",
    "# 3 * 4 * 2\n",
    "arr1 = np.ones((3,4))\n",
    "arr2 = np.zeros((3,4))\n",
    "\n",
    "arr3 = np.dstack([arr1, arr2])\n",
    "print(arr3)\n",
    "print(arr3.shape)"
   ]
  },
  {
   "cell_type": "code",
   "execution_count": 116,
   "metadata": {},
   "outputs": [
    {
     "name": "stdout",
     "output_type": "stream",
     "text": [
      "[[[1. 1. 1. 1.]\n",
      "  [1. 1. 1. 1.]\n",
      "  [1. 1. 1. 1.]]\n",
      "\n",
      " [[0. 0. 0. 0.]\n",
      "  [0. 0. 0. 0.]\n",
      "  [0. 0. 0. 0.]]]\n",
      "(2, 3, 4)\n",
      "----------------------\n",
      "[[[1. 1. 1. 1.]\n",
      "  [1. 1. 1. 1.]\n",
      "  [1. 1. 1. 1.]]\n",
      "\n",
      " [[0. 0. 0. 0.]\n",
      "  [0. 0. 0. 0.]\n",
      "  [0. 0. 0. 0.]]]\n",
      "(2, 3, 4)\n",
      "----------------------\n",
      "[[[1. 1. 1. 1.]\n",
      "  [0. 0. 0. 0.]]\n",
      "\n",
      " [[1. 1. 1. 1.]\n",
      "  [0. 0. 0. 0.]]\n",
      "\n",
      " [[1. 1. 1. 1.]\n",
      "  [0. 0. 0. 0.]]]\n",
      "(3, 2, 4)\n",
      "----------------------\n",
      "[[[1. 0.]\n",
      "  [1. 0.]\n",
      "  [1. 0.]\n",
      "  [1. 0.]]\n",
      "\n",
      " [[1. 0.]\n",
      "  [1. 0.]\n",
      "  [1. 0.]\n",
      "  [1. 0.]]\n",
      "\n",
      " [[1. 0.]\n",
      "  [1. 0.]\n",
      "  [1. 0.]\n",
      "  [1. 0.]]]\n",
      "(3, 4, 2)\n"
     ]
    }
   ],
   "source": [
    "# stack : dstack의 확장\n",
    "\n",
    "arr1 = np.ones((3,4))\n",
    "arr2 = np.zeros((3,4))\n",
    "\n",
    "arr3 = np.stack([arr1, arr2])\n",
    "print(arr3)\n",
    "print(arr3.shape)\n",
    "\n",
    "print('----------------------')\n",
    "\n",
    "arr4 = np.stack([arr1, arr2], axis=0)\n",
    "print(arr4)\n",
    "print(arr4.shape)\n",
    "\n",
    "print('----------------------')\n",
    "\n",
    "arr4 = np.stack([arr1, arr2], axis=1)\n",
    "print(arr4)\n",
    "print(arr4.shape)\n",
    "\n",
    "print('----------------------')\n",
    "\n",
    "arr4 = np.stack([arr1, arr2], axis=2)\n",
    "print(arr4)\n",
    "print(arr4.shape)\n"
   ]
  },
  {
   "cell_type": "code",
   "execution_count": 121,
   "metadata": {},
   "outputs": [
    {
     "name": "stdout",
     "output_type": "stream",
     "text": [
      "[[0 1 2 0 1 2]\n",
      " [3 4 5 3 4 5]]\n",
      "----------------------\n",
      "[[0 1 2 0 1 2]\n",
      " [3 4 5 3 4 5]\n",
      " [0 1 2 0 1 2]\n",
      " [3 4 5 3 4 5]\n",
      " [0 1 2 0 1 2]\n",
      " [3 4 5 3 4 5]]\n",
      "----------------------\n",
      "[[0 1 2]\n",
      " [3 4 5]\n",
      " [0 1 2]\n",
      " [3 4 5]]\n"
     ]
    }
   ],
   "source": [
    "# tile\n",
    "\n",
    "arr = np.array([[0,1,2],[3,4,5]])\n",
    "\n",
    "print(np.tile(arr,2))\n",
    "\n",
    "print('----------------------')\n",
    "\n",
    "print(np.tile(arr, (3,2)))\n",
    "\n",
    "print('----------------------')\n",
    "\n",
    "print(np.tile(arr, (2,1)))"
   ]
  },
  {
   "cell_type": "markdown",
   "metadata": {},
   "source": [
    "### 2차원 그리드 포인트 생성 : meshgrid()"
   ]
  },
  {
   "cell_type": "code",
   "execution_count": 122,
   "metadata": {},
   "outputs": [
    {
     "data": {
      "text/plain": [
       "array([0, 1, 2])"
      ]
     },
     "execution_count": 122,
     "metadata": {},
     "output_type": "execute_result"
    }
   ],
   "source": [
    "x = np.arange(3)\n",
    "x"
   ]
  },
  {
   "cell_type": "code",
   "execution_count": 124,
   "metadata": {},
   "outputs": [
    {
     "data": {
      "text/plain": [
       "array([0, 1, 2, 3, 4])"
      ]
     },
     "execution_count": 124,
     "metadata": {},
     "output_type": "execute_result"
    }
   ],
   "source": [
    "y = np.arange(5)\n",
    "y"
   ]
  },
  {
   "cell_type": "code",
   "execution_count": 126,
   "metadata": {},
   "outputs": [
    {
     "name": "stdout",
     "output_type": "stream",
     "text": [
      "[[0 1 2]\n",
      " [0 1 2]\n",
      " [0 1 2]\n",
      " [0 1 2]\n",
      " [0 1 2]]\n",
      "----------------\n",
      "[[0 0 0]\n",
      " [1 1 1]\n",
      " [2 2 2]\n",
      " [3 3 3]\n",
      " [4 4 4]]\n"
     ]
    }
   ],
   "source": [
    "X, Y = np.meshgrid(x,y)\n",
    "print(X)\n",
    "print('----------------')\n",
    "print(Y)"
   ]
  },
  {
   "cell_type": "code",
   "execution_count": 129,
   "metadata": {},
   "outputs": [
    {
     "data": {
      "text/plain": [
       "[[(0, 0), (1, 0), (2, 0)],\n",
       " [(0, 1), (1, 1), (2, 1)],\n",
       " [(0, 2), (1, 2), (2, 2)],\n",
       " [(0, 3), (1, 3), (2, 3)],\n",
       " [(0, 4), (1, 4), (2, 4)]]"
      ]
     },
     "execution_count": 129,
     "metadata": {},
     "output_type": "execute_result"
    }
   ],
   "source": [
    "z = [list(zip(x,y)) for x, y in zip(X,Y)]\n",
    "z"
   ]
  },
  {
   "cell_type": "code",
   "execution_count": 131,
   "metadata": {},
   "outputs": [
    {
     "data": {
      "text/plain": [
       "<matplotlib.collections.PathCollection at 0x29ca35142b0>"
      ]
     },
     "execution_count": 131,
     "metadata": {},
     "output_type": "execute_result"
    },
    {
     "data": {
      "image/png": "[encoded data removed]",
      "text/plain": [
       "<Figure size 432x288 with 1 Axes>"
      ]
     },
     "metadata": {
      "needs_background": "light"
     },
     "output_type": "display_data"
    }
   ],
   "source": [
    "import matplotlib.pylab as plt\n",
    "plt.scatter(X,Y)"
   ]
  },
  {
   "cell_type": "markdown",
   "metadata": {},
   "source": [
    "### 브로드 캐스팅(BroadCasting)\n",
    "\n",
    "+ 크기가 서로 다른 행렬(벡터)끼리 연산을 가능하게 하는 것"
   ]
  },
  {
   "cell_type": "code",
   "execution_count": 10,
   "metadata": {},
   "outputs": [
    {
     "name": "stdout",
     "output_type": "stream",
     "text": [
      "[0, 1, 2, 3, 4]\n",
      "[range(0, 3), range(1, 4), range(2, 5), range(3, 6), range(4, 7)]\n",
      "[[0 1 2]\n",
      " [1 2 3]\n",
      " [2 3 4]\n",
      " [3 4 5]\n",
      " [4 5 6]]\n"
     ]
    }
   ],
   "source": [
    "print([i for i in range(5)])\n",
    "print([range(7)[i:i+3] for i in range(5)])\n",
    "\n",
    "print(np.vstack([range(7)[i:i+3] for i in range(5)]))"
   ]
  },
  {
   "cell_type": "code",
   "execution_count": 141,
   "metadata": {},
   "outputs": [
    {
     "name": "stdout",
     "output_type": "stream",
     "text": [
      "0\n",
      "1\n",
      "2\n",
      "3\n",
      "----------------------\n",
      "[[0]\n",
      " [1]\n",
      " [2]\n",
      " [3]\n",
      " [4]]\n"
     ]
    }
   ],
   "source": [
    "data = range(10)[0:4]\n",
    "\n",
    "for i in data:\n",
    "    print(i)\n",
    "    \n",
    "print('----------------------')\n",
    "\n",
    "np.arange(5)[:] #[:]원래 이게 다 붙어있는데 생략된 것\n",
    "\n",
    "print(np.arange(5)[:, np.newaxis])"
   ]
  },
  {
   "cell_type": "code",
   "execution_count": 144,
   "metadata": {},
   "outputs": [
    {
     "name": "stdout",
     "output_type": "stream",
     "text": [
      "[[ 0  1  2]\n",
      " [ 2  3  4]\n",
      " [ 4  5  6]\n",
      " [ 6  7  8]\n",
      " [ 8  9 10]]\n",
      "----------------------\n",
      "[[0 2 4]\n",
      " [1 3 5]\n",
      " [2 4 6]\n",
      " [3 5 7]\n",
      " [4 6 8]]\n"
     ]
    }
   ],
   "source": [
    "x = np.vstack([range(7)[i:i+3] for i in range(5)])\n",
    "y = np.arange(5)[:, np.newaxis]\n",
    "\n",
    "print(x+y)\n",
    "\n",
    "print('----------------------')\n",
    "y = np.arange(3)\n",
    "print(x+y)"
   ]
  },
  {
   "cell_type": "markdown",
   "metadata": {},
   "source": [
    "### 차원축소(dimension reduction) 연산)\n",
    "\n",
    "+ 최대값/최소값 : min,max, argmax, argmin\n",
    "+ 대표값: sum, mean, median, std, var\n",
    "+ 불리언: all, any\n",
    "---\n",
    "행렬의 하나의 행에 있는 원소들을 하나의 데이터 집합으로 보고 그 집합의 평균을 구하면 각 행에 대해 하나의 숫자가 나오게 된다.\n",
    "\n",
    "이러한 연산을 차원 축소 연산이라고 한다."
   ]
  },
  {
   "cell_type": "code",
   "execution_count": 11,
   "metadata": {},
   "outputs": [
    {
     "name": "stdout",
     "output_type": "stream",
     "text": [
      "3\n",
      "------------------\n",
      "1\n"
     ]
    }
   ],
   "source": [
    "x = np.array([1, 3, 2, -3])\n",
    "\n",
    "result = np.argmin(x)\n",
    "print(result)\n",
    "print(\"------------------\")\n",
    "result = np.argmax(x)\n",
    "print(result)"
   ]
  },
  {
   "cell_type": "code",
   "execution_count": 12,
   "metadata": {},
   "outputs": [
    {
     "name": "stdout",
     "output_type": "stream",
     "text": [
      "6\n",
      "열 합계 :  [3 3]\n",
      "행 합계 :  [2 4]\n"
     ]
    }
   ],
   "source": [
    "x = np.array([[1, 1], [2, 2]])\n",
    "\n",
    "print(x.sum())\n",
    "print(\"열 합계 : \", x.sum(axis=0))\n",
    "print(\"행 합계 : \", x.sum(axis=1))"
   ]
  },
  {
   "cell_type": "markdown",
   "metadata": {},
   "source": [
    "### 기술 통계\n",
    "\n",
    "+ len()\n",
    "+ sum(), mean()\n",
    "+ var(), std()\n",
    "+ max(), min()\n",
    "+ median()\n",
    "+ 사분위수 : percentile()"
   ]
  },
  {
   "cell_type": "code",
   "execution_count": 14,
   "metadata": {},
   "outputs": [
    {
     "name": "stdout",
     "output_type": "stream",
     "text": [
      "최소값 :  -24.0\n",
      "최대값 :  23.0\n",
      "1사분위 :  0.0\n",
      "2사분위 :  5.0\n",
      "3사분위 :  10.0\n"
     ]
    }
   ],
   "source": [
    "x = np.array([18,   5,  10,  23,  19,  -8,  10,   0,   0,   5,   2,  15,   8,\n",
    "              2,   5,   4,  15,  -1,   4,  -7, -24,   7,   9,  -6,  23, -13])\n",
    "\n",
    "print(\"최소값 : \", np.percentile(x, 0))\n",
    "print(\"최대값 : \", np.percentile(x, 100))\n",
    "print(\"1사분위 : \", np.percentile(x, 25))\n",
    "print(\"2사분위 : \", np.percentile(x, 50))\n",
    "print(\"3사분위 : \", np.percentile(x, 75))"
   ]
  },
  {
   "cell_type": "code",
   "execution_count": 15,
   "metadata": {},
   "outputs": [
    {
     "data": {
      "text/plain": [
       "DescribeResult(nobs=26, minmax=(-24, 23), mean=4.8076923076923075, variance=119.84153846153846, skewness=-0.4762339485461929, kurtosis=0.37443381660038977)"
      ]
     },
     "execution_count": 15,
     "metadata": {},
     "output_type": "execute_result"
    }
   ],
   "source": [
    "from scipy.stats import describe\n",
    "\n",
    "describe(x)\n",
    "\n",
    "# skewness : 왜도 (좌우 비대칭)\n",
    "# kurtosis : 첨도 (위 아래 뾰족한 정도)"
   ]
  },
  {
   "cell_type": "markdown",
   "metadata": {},
   "source": [
    "### 정렬"
   ]
  },
  {
   "cell_type": "code",
   "execution_count": 17,
   "metadata": {
    "collapsed": true
   },
   "outputs": [
    {
     "name": "stdout",
     "output_type": "stream",
     "text": [
      "[[ 3  4  5  7]\n",
      " [ 1  9 11 12]\n",
      " [ 1  2 14 15]]\n",
      "-----------------\n",
      "[[ 3  4  5  7]\n",
      " [ 1  9 11 12]\n",
      " [ 1  2 14 15]]\n",
      "-----------------\n",
      "[[ 1  3  1  7]\n",
      " [ 2 12  5  9]\n",
      " [ 4 15 11 14]]\n",
      "-----------------\n",
      "[[ 4  3  5  7]\n",
      " [ 1 12 11  9]\n",
      " [ 2 15  1 14]]\n"
     ]
    }
   ],
   "source": [
    "arr = np.array([[4, 3, 5, 7], \n",
    "                [1, 12, 11, 9], \n",
    "                [2, 15, 1, 14]])\n",
    "\n",
    "print(np.sort(arr))\n",
    "print(\"-----------------\")\n",
    "print(np.sort(arr, axis=1))\n",
    "print(\"-----------------\")\n",
    "print(np.sort(arr, axis=0))\n",
    "print(\"-----------------\")\n",
    "print(arr)"
   ]
  },
  {
   "cell_type": "code",
   "execution_count": 18,
   "metadata": {},
   "outputs": [],
   "source": [
    "# 원본에 정렬 적용\n",
    "arr = np.sort(arr)\n",
    "# 또는\n",
    "arr.sort() # in-place"
   ]
  },
  {
   "cell_type": "code",
   "execution_count": 19,
   "metadata": {},
   "outputs": [
    {
     "name": "stdout",
     "output_type": "stream",
     "text": [
      "[12 25 38 42]\n"
     ]
    }
   ],
   "source": [
    "# argsort\n",
    "arr1 = np.array([42, 38, 12, 25])\n",
    "idx = np.argsort(arr1)\n",
    "print(arr1[idx])"
   ]
  },
  {
   "cell_type": "code",
   "execution_count": 20,
   "metadata": {},
   "outputs": [
    {
     "name": "stdout",
     "output_type": "stream",
     "text": [
      "[42 38 25 12]\n",
      "[42 38 25 12]\n"
     ]
    }
   ],
   "source": [
    "# 내림차순\n",
    "\n",
    "print(np.sort(arr1)[::-1])\n",
    "# 또는\n",
    "print(arr1[np.argsort(-arr1)])"
   ]
  },
  {
   "cell_type": "code",
   "execution_count": 21,
   "metadata": {},
   "outputs": [
    {
     "name": "stdout",
     "output_type": "stream",
     "text": [
      "[0, 2, 4, 6, 8]\n",
      "[1, 3, 5, 7, 9]\n",
      "[9, 8, 7, 6, 5, 4, 3, 2, 1, 0]\n",
      "[9, 7, 5, 3, 1]\n"
     ]
    }
   ],
   "source": [
    "# 슬라이스 : arr[시작위치:끝위치:간격]\n",
    "ex = range(10)\n",
    "\n",
    "print(list(ex[::2]))\n",
    "print(list(ex[1::2]))\n",
    "print(list(ex[::-1]))\n",
    "print(list(ex[::-2]))"
   ]
  },
  {
   "cell_type": "markdown",
   "metadata": {},
   "source": [
    "### 난수\n",
    "\n",
    "+ rand()     : 0 ~ 1 사이의 균일분포\n",
    "+ randn()    : 가우시안 표준 정규분포\n",
    "+ randint()  : 균일분포의 정수 난수"
   ]
  },
  {
   "cell_type": "code",
   "execution_count": 23,
   "metadata": {},
   "outputs": [
    {
     "name": "stdout",
     "output_type": "stream",
     "text": [
      "[0.57984011 0.62302828 0.95394673 0.90738308 0.29165934 0.70824957\n",
      " 0.08723944 0.4936524  0.20290498 0.29631661]\n",
      "------------------------------------\n",
      "[[0.89983075 0.67467532 0.52759429 0.6256422  0.56440027]\n",
      " [0.41847424 0.15623764 0.62723873 0.6991883  0.99703569]\n",
      " [0.06827909 0.89021465 0.57346908 0.63348965 0.82184864]]\n"
     ]
    }
   ],
   "source": [
    "print(np.random.rand(10))\n",
    "print(\"------------------------------------\")\n",
    "print(np.random.rand(3, 5))"
   ]
  },
  {
   "cell_type": "code",
   "execution_count": 24,
   "metadata": {
    "collapsed": true
   },
   "outputs": [
    {
     "name": "stdout",
     "output_type": "stream",
     "text": [
      "7\n",
      "------------------------------------\n",
      "13\n",
      "------------------------------------\n",
      "[17 17 15 17 11 17 17 15 19 17 17 14 16 12 14 15 12 14 16 13 15 12 11 15\n",
      " 11 19 14 12 16 11 13 11 17 17 18 11 13 16 19 11 11 11 18 13 16 17 17 15\n",
      " 19 15 16 14 12 11 18 14 16 13 17 18 15 13 11 17 11 15 13 16 17 11 15 11\n",
      " 18 11 12 14 14 18 12 11 13 13 16 19 18 19 11 15 19 18 14 17 18 16 14 19\n",
      " 14 18 18 17]\n",
      "------------------------------------\n",
      "[[19 18 16 16]\n",
      " [17 15 14 19]\n",
      " [16 11 13 19]]\n"
     ]
    }
   ],
   "source": [
    "print(np.random.randint(10)) # 0~9 사이의 난수 1개\n",
    "print(\"------------------------------------\")\n",
    "print(np.random.randint(11, 20))\n",
    "print(\"------------------------------------\")\n",
    "print(np.random.randint(11, 20, size=100))\n",
    "print(\"------------------------------------\")\n",
    "print(np.random.randint(11, 20, size=(3, 4)))"
   ]
  },
  {
   "cell_type": "code",
   "execution_count": 25,
   "metadata": {},
   "outputs": [
    {
     "data": {
      "text/plain": [
       "array([0.77132064, 0.02075195])"
      ]
     },
     "execution_count": 25,
     "metadata": {},
     "output_type": "execute_result"
    }
   ],
   "source": [
    "# 재현성(난수 고정)\n",
    "\n",
    "np.random.seed(10)\n",
    "np.random.rand(2)"
   ]
  },
  {
   "cell_type": "code",
   "execution_count": 26,
   "metadata": {},
   "outputs": [
    {
     "name": "stdout",
     "output_type": "stream",
     "text": [
      "[0 1 2 3 4 5 6 7 8 9]\n",
      "[2 6 7 5 9 8 4 3 1 0]\n"
     ]
    }
   ],
   "source": [
    "# 데이터의 순서 바꾸기\n",
    "\n",
    "x = np.arange(10)\n",
    "print(x)\n",
    "\n",
    "np.random.shuffle(x)\n",
    "print(x)"
   ]
  },
  {
   "cell_type": "code",
   "execution_count": 27,
   "metadata": {},
   "outputs": [
    {
     "name": "stdout",
     "output_type": "stream",
     "text": [
      "[0 1 0 2 0]\n",
      "[4 3 0]\n",
      "-----------------------------------\n",
      "[1 0 2 3 4]\n",
      "-----------------------------------\n",
      "[3 3 3 2 3 3 3 2 2 3]\n"
     ]
    }
   ],
   "source": [
    "# 샘플링 : 복원(default), 비복원 : replace = T(default) or F\n",
    "\n",
    "print(np.random.choice(5, 5)) # 0~4까지 숫자 중 5번 추출(복원)\n",
    "print(np.random.choice(5, 3))\n",
    "print(\"-----------------------------------\")\n",
    "print(np.random.choice(5, 5, replace=False))\n",
    "print(\"-----------------------------------\")\n",
    "print(np.random.choice(5, 10, p=[0.1, 0, 0.3, 0.6, 0]))"
   ]
  },
  {
   "cell_type": "markdown",
   "metadata": {},
   "source": [
    "### 정수형 데이터 카운팅 : unique, bincount"
   ]
  },
  {
   "cell_type": "code",
   "execution_count": 29,
   "metadata": {},
   "outputs": [
    {
     "name": "stdout",
     "output_type": "stream",
     "text": [
      "5\n",
      "['a' 'b' 'c']\n",
      "-------------------------\n",
      "['a' 'b' 'c']\n",
      "[2 2 1]\n"
     ]
    }
   ],
   "source": [
    "arr = np.array(['a', 'b', 'b', 'c', 'a'])\n",
    "\n",
    "print(len(arr))\n",
    "print(np.unique(arr))\n",
    "\n",
    "print(\"-------------------------\")\n",
    "\n",
    "idx, cnt = np.unique(arr, return_counts=True)\n",
    "print(idx)\n",
    "print(cnt)"
   ]
  },
  {
   "cell_type": "code",
   "execution_count": 30,
   "metadata": {},
   "outputs": [
    {
     "name": "stdout",
     "output_type": "stream",
     "text": [
      "[0 2 3 1 0 0]\n"
     ]
    }
   ],
   "source": [
    "# bincount : 발생하지 않은 사건에 대해서도 카운팅\n",
    "\n",
    "arr = np.array([1, 1, 2, 2, 2, 3])\n",
    "print(np.bincount(arr, minlength=6))"
   ]
  },
  {
   "cell_type": "markdown",
   "metadata": {},
   "source": [
    "### 실습\n",
    "+ data = https://grouplens.org/datasets/movielens/\n",
    "+ Older Dataset에서 MovieLens 1M DataSet 받기 : ml-1m.zip (size:6MB, checksum)"
   ]
  },
  {
   "cell_type": "code",
   "execution_count": 33,
   "metadata": {},
   "outputs": [],
   "source": [
    "data = np.loadtxt('C:/Users/User_/jeong/ml-1m/ratings.dat', delimiter='::', dtype=np.int64)"
   ]
  },
  {
   "cell_type": "code",
   "execution_count": 151,
   "metadata": {},
   "outputs": [
    {
     "name": "stdout",
     "output_type": "stream",
     "text": [
      "[[        1      1193         5 978300760]\n",
      " [        1       661         3 978302109]\n",
      " [        1       914         3 978301968]\n",
      " ...\n",
      " [     6040       562         5 956704746]\n",
      " [     6040      1096         4 956715648]\n",
      " [     6040      1097         4 956715569]]\n",
      "(1000209, 4)\n"
     ]
    }
   ],
   "source": [
    "print(data)\n",
    "print(data.shape)"
   ]
  },
  {
   "cell_type": "code",
   "execution_count": 152,
   "metadata": {},
   "outputs": [
    {
     "data": {
      "text/plain": [
       "array([[        1,      1193,         5, 978300760],\n",
       "       [        1,       661,         3, 978302109],\n",
       "       [        1,       914,         3, 978301968],\n",
       "       [        1,      3408,         4, 978300275],\n",
       "       [        1,      2355,         5, 978824291],\n",
       "       [        1,      1197,         3, 978302268],\n",
       "       [        1,      1287,         5, 978302039],\n",
       "       [        1,      2804,         5, 978300719],\n",
       "       [        1,       594,         4, 978302268],\n",
       "       [        1,       919,         4, 978301368],\n",
       "       [        1,       595,         5, 978824268],\n",
       "       [        1,       938,         4, 978301752],\n",
       "       [        1,      2398,         4, 978302281],\n",
       "       [        1,      2918,         4, 978302124],\n",
       "       [        1,      1035,         5, 978301753],\n",
       "       [        1,      2791,         4, 978302188],\n",
       "       [        1,      2687,         3, 978824268],\n",
       "       [        1,      2018,         4, 978301777],\n",
       "       [        1,      3105,         5, 978301713],\n",
       "       [        1,      2797,         4, 978302039],\n",
       "       [        1,      2321,         3, 978302205]], dtype=int64)"
      ]
     },
     "execution_count": 152,
     "metadata": {},
     "output_type": "execute_result"
    }
   ],
   "source": [
    "# 1행부터 20행까지 출력\n",
    "data[:21,:]"
   ]
  },
  {
   "cell_type": "code",
   "execution_count": 153,
   "metadata": {},
   "outputs": [
    {
     "data": {
      "text/plain": [
       "array([[   1,  720],\n",
       "       [   1, 1270],\n",
       "       [   1,  527],\n",
       "       [   1, 2340],\n",
       "       [   1,   48],\n",
       "       [   1, 1097],\n",
       "       [   1, 1721],\n",
       "       [   1, 1545],\n",
       "       [   1,  745],\n",
       "       [   1, 2294]], dtype=int64)"
      ]
     },
     "execution_count": 153,
     "metadata": {},
     "output_type": "execute_result"
    }
   ],
   "source": [
    "# 21행부터 30행까지 userid와 movieid만 출력\n",
    "data[21:31, 0:2]"
   ]
  },
  {
   "cell_type": "code",
   "execution_count": 34,
   "metadata": {},
   "outputs": [
    {
     "name": "stdout",
     "output_type": "stream",
     "text": [
      "3.581564453029317\n",
      "5\n"
     ]
    }
   ],
   "source": [
    "# 전체 평점 평균\n",
    "print(data[:, 2].mean())\n",
    "print(np.max(data[:, 2]))"
   ]
  },
  {
   "cell_type": "code",
   "execution_count": 35,
   "metadata": {},
   "outputs": [
    {
     "name": "stdout",
     "output_type": "stream",
     "text": [
      "(6040,)\n",
      "결과 :  [[1, 4.188679245283019], [2, 3.7131782945736433], [3, 3.9019607843137254], [4, 4.190476190476191], [5, 3.1464646464646466], [6, 3.9014084507042255], [7, 4.32258064516129], [8, 3.884892086330935], [9, 3.7358490566037736], [10, 4.114713216957606]]\n"
     ]
    }
   ],
   "source": [
    "# 사용자별로 평점 평균 (10명만 출력)\n",
    "user_id = np.unique(data[:, 0])\n",
    "print(user_id.shape)\n",
    "\n",
    "mean_values = []\n",
    "for id in user_id:\n",
    "    data_for_user = data[data[:, 0] == id , :]\n",
    "    value = data_for_user[:, 2].mean()\n",
    "    mean_values.append([id, value])\n",
    "    \n",
    "print(\"결과 : \", mean_values[:10])"
   ]
  },
  {
   "cell_type": "code",
   "execution_count": 36,
   "metadata": {},
   "outputs": [
    {
     "name": "stdout",
     "output_type": "stream",
     "text": [
      "282\n",
      "[283.           4.96296296]\n",
      "4.962962962962963\n",
      "[3597 4485 2743 ... 3323 2338  282]\n",
      "[ 282 2338 3323 ... 2743 4485 3597]\n"
     ]
    }
   ],
   "source": [
    "# 최고 평점 구하기\n",
    "arr_mean_values = np.array(mean_values)\n",
    "#print(arr_mean_values)\n",
    "print(np.argmax(arr_mean_values[:,1]))\n",
    "print(arr_mean_values[282])\n",
    "\n",
    "print(np.max(arr_mean_values[:,1]))\n",
    "\n",
    "print(np.argsort(arr_mean_values[:,1]))\n",
    "print(np.argsort(arr_mean_values[:,1])[::-1])"
   ]
  }
 ],
 "metadata": {
  "kernelspec": {
   "display_name": "Python 3",
   "language": "python",
   "name": "python3"
  },
  "language_info": {
   "codemirror_mode": {
    "name": "ipython",
    "version": 3
   },
   "file_extension": ".py",
   "mimetype": "text/x-python",
   "name": "python",
   "nbconvert_exporter": "python",
   "pygments_lexer": "ipython3",
   "version": "3.8.3"
  }
 },
 "nbformat": 4,
 "nbformat_minor": 4
}
